{
 "cells": [
  {
   "cell_type": "code",
   "execution_count": 1,
   "id": "564b3f5c-5b24-4574-b018-a9279be15426",
   "metadata": {},
   "outputs": [
    {
     "name": "stdin",
     "output_type": "stream",
     "text": [
      "Enter a number:  13\n"
     ]
    },
    {
     "data": {
      "text/plain": [
       "13"
      ]
     },
     "execution_count": 1,
     "metadata": {},
     "output_type": "execute_result"
    }
   ],
   "source": [
    "x = int(input('Enter a number: '))\n",
    "x"
   ]
  },
  {
   "cell_type": "code",
   "execution_count": 2,
   "id": "456d86b1-8dc9-42bf-95d0-2267e44b0ad3",
   "metadata": {},
   "outputs": [
    {
     "ename": "NameError",
     "evalue": "name 'num_factors' is not defined",
     "output_type": "error",
     "traceback": [
      "\u001b[1;31m---------------------------------------------------------------------------\u001b[0m",
      "\u001b[1;31mNameError\u001b[0m                                 Traceback (most recent call last)",
      "Cell \u001b[1;32mIn[2], line 3\u001b[0m\n\u001b[0;32m      1\u001b[0m \u001b[38;5;28;01mfor\u001b[39;00m i \u001b[38;5;129;01min\u001b[39;00m \u001b[38;5;28mrange\u001b[39m(\u001b[38;5;241m1\u001b[39m, x\u001b[38;5;241m+\u001b[39m\u001b[38;5;241m1\u001b[39m):\n\u001b[0;32m      2\u001b[0m     \u001b[38;5;28;01mif\u001b[39;00m(x\u001b[38;5;241m%\u001b[39mi \u001b[38;5;241m==\u001b[39m \u001b[38;5;241m0\u001b[39m):\n\u001b[1;32m----> 3\u001b[0m         num_factors \u001b[38;5;241m=\u001b[39m num_factors\u001b[38;5;241m+\u001b[39m\u001b[38;5;241m1\u001b[39m\n\u001b[0;32m      4\u001b[0m \u001b[38;5;28;01mif\u001b[39;00m(num_factors)\u001b[38;5;241m==\u001b[39m\u001b[38;5;241m2\u001b[39m:\n\u001b[0;32m      5\u001b[0m     \u001b[38;5;28mprint\u001b[39m(\u001b[38;5;124m'\u001b[39m\u001b[38;5;124mprime\u001b[39m\u001b[38;5;124m'\u001b[39m)\n",
      "\u001b[1;31mNameError\u001b[0m: name 'num_factors' is not defined"
     ]
    }
   ],
   "source": []
  },
  {
   "cell_type": "code",
   "execution_count": 3,
   "id": "e8ad8b0b-5bab-4348-a708-e3df183fb280",
   "metadata": {},
   "outputs": [],
   "source": [
    "num_factors = 0"
   ]
  },
  {
   "cell_type": "code",
   "execution_count": 6,
   "id": "97cdafd7-4344-4a5f-a5a0-975f0f4357d0",
   "metadata": {},
   "outputs": [
    {
     "name": "stdout",
     "output_type": "stream",
     "text": [
      "not prime\n"
     ]
    }
   ],
   "source": [
    "for i in range(1, x+1):\n",
    "    if(x%i == 0):\n",
    "        num_factors = num_factors+1\n",
    "if(num_factors)==2:\n",
    "    print('prime')\n",
    "else:\n",
    "    print('not prime')"
   ]
  },
  {
   "cell_type": "code",
   "execution_count": 7,
   "id": "f8fdf088-fe66-4690-a982-d371fdf3cf5d",
   "metadata": {},
   "outputs": [],
   "source": [
    "import math"
   ]
  },
  {
   "cell_type": "code",
   "execution_count": 8,
   "id": "51b99bea-90cc-4cc5-9eef-cbce19dfcdc3",
   "metadata": {},
   "outputs": [
    {
     "data": {
      "text/plain": [
       "7"
      ]
     },
     "execution_count": 8,
     "metadata": {},
     "output_type": "execute_result"
    }
   ],
   "source": [
    "math.floor(7.9)"
   ]
  },
  {
   "cell_type": "code",
   "execution_count": 9,
   "id": "70a78135-ceb3-4af0-8eca-4d891d64a4f9",
   "metadata": {},
   "outputs": [
    {
     "data": {
      "text/plain": [
       "8"
      ]
     },
     "execution_count": 9,
     "metadata": {},
     "output_type": "execute_result"
    }
   ],
   "source": [
    "math.ceil(7.9)"
   ]
  },
  {
   "cell_type": "code",
   "execution_count": 10,
   "id": "d51379d0-f78e-4563-a7f1-9d21e9df8e0a",
   "metadata": {},
   "outputs": [],
   "source": [
    "l = [1,4,4,5,4,2,3,1,3,5,6,4,3]\n",
    "string = 'nhgbdhuhdfghjkfghhjfhiujfjhj'"
   ]
  },
  {
   "cell_type": "code",
   "execution_count": 23,
   "id": "12f08b6f-10ab-4452-b173-0a77b23cd1bb",
   "metadata": {},
   "outputs": [],
   "source": [
    "l2 =[1,2,1,1,1,2,1,2,1]"
   ]
  },
  {
   "cell_type": "code",
   "execution_count": 24,
   "id": "92270825-6508-4eac-a816-5d60142984f5",
   "metadata": {},
   "outputs": [],
   "source": [
    "d = {}"
   ]
  },
  {
   "cell_type": "code",
   "execution_count": 25,
   "id": "7e8cddf5-62c7-4df8-b6ab-fd9c7d21d3ac",
   "metadata": {},
   "outputs": [],
   "source": [
    "seen_nums = []"
   ]
  },
  {
   "cell_type": "code",
   "execution_count": 26,
   "id": "96829619-4d76-4aaa-b27f-97aad4d1f4fe",
   "metadata": {},
   "outputs": [],
   "source": [
    "for i in l:\n",
    "    if i not in seen_nums:\n",
    "        d[i] = l.count(i)\n",
    "        seen_nums.append(i)"
   ]
  },
  {
   "cell_type": "code",
   "execution_count": 27,
   "id": "5559ab5e-70cb-4d4a-8617-2573d25dde7c",
   "metadata": {},
   "outputs": [
    {
     "data": {
      "text/plain": [
       "{1: 2, 4: 4, 5: 2, 2: 1, 3: 3, 6: 1}"
      ]
     },
     "execution_count": 27,
     "metadata": {},
     "output_type": "execute_result"
    }
   ],
   "source": [
    "d"
   ]
  },
  {
   "cell_type": "code",
   "execution_count": 19,
   "id": "9c6f59b3-92bf-441f-a66d-5a8b85577c24",
   "metadata": {},
   "outputs": [],
   "source": [
    "\n",
    "for i in string:\n",
    "    d[i] = string.count(i)"
   ]
  },
  {
   "cell_type": "code",
   "execution_count": 20,
   "id": "47895b97-a112-48bb-89b7-a693ad3b4818",
   "metadata": {},
   "outputs": [
    {
     "data": {
      "text/plain": [
       "{1: 2,\n",
       " 4: 4,\n",
       " 5: 2,\n",
       " 2: 1,\n",
       " 3: 3,\n",
       " 6: 1,\n",
       " 'n': 1,\n",
       " 'h': 8,\n",
       " 'g': 3,\n",
       " 'b': 1,\n",
       " 'd': 2,\n",
       " 'u': 2,\n",
       " 'f': 4,\n",
       " 'j': 5,\n",
       " 'k': 1,\n",
       " 'i': 1}"
      ]
     },
     "execution_count": 20,
     "metadata": {},
     "output_type": "execute_result"
    }
   ],
   "source": [
    "d"
   ]
  },
  {
   "cell_type": "code",
   "execution_count": 28,
   "id": "d1d899f5-5787-4fc2-b9e9-7a84d6a2e7c3",
   "metadata": {},
   "outputs": [],
   "source": [
    "l = [1,2,1,3,5,6,7,2,1,3,5,1,3,4,1,3]\n",
    "output = [1, 'one',2,1,'one',3,5,6,7,2,1,'one',3,5,1,'one',3,4,1,'one',3]"
   ]
  },
  {
   "cell_type": "code",
   "execution_count": null,
   "id": "3266db02-c79a-41ef-a3ec-a0d909043099",
   "metadata": {},
   "outputs": [],
   "source": [
    "ip = abc\n",
    "op = \n",
    "\n",
    "abc\n",
    "acb\n",
    "bac\n",
    "bca\n",
    "cab\n",
    "cba"
   ]
  },
  {
   "cell_type": "code",
   "execution_count": null,
   "id": "b78ec51b-e697-429a-bcb7-ea4e7288c34f",
   "metadata": {},
   "outputs": [],
   "source": [
    "ip = aacbb"
   ]
  },
  {
   "cell_type": "code",
   "execution_count": null,
   "id": "97dd6611-7b88-4b74-9fa3-fcb9e05a79af",
   "metadata": {},
   "outputs": [],
   "source": [
    "import"
   ]
  }
 ],
 "metadata": {
  "kernelspec": {
   "display_name": "Python 3 (ipykernel)",
   "language": "python",
   "name": "python3"
  },
  "language_info": {
   "codemirror_mode": {
    "name": "ipython",
    "version": 3
   },
   "file_extension": ".py",
   "mimetype": "text/x-python",
   "name": "python",
   "nbconvert_exporter": "python",
   "pygments_lexer": "ipython3",
   "version": "3.11.7"
  }
 },
 "nbformat": 4,
 "nbformat_minor": 5
}
