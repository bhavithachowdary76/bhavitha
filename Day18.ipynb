{
  "nbformat": 4,
  "nbformat_minor": 0,
  "metadata": {
    "colab": {
      "provenance": []
    },
    "kernelspec": {
      "name": "python3",
      "display_name": "Python 3"
    },
    "language_info": {
      "name": "python"
    }
  },
  "cells": [
    {
      "cell_type": "code",
      "execution_count": 1,
      "metadata": {
        "colab": {
          "base_uri": "https://localhost:8080/"
        },
        "id": "aAbkaI2ezTGe",
        "outputId": "625404f7-35f9-4eb8-dd1f-64dde2343c87"
      },
      "outputs": [
        {
          "output_type": "stream",
          "name": "stdout",
          "text": [
            "Webpage Title: Example Domain\n"
          ]
        }
      ],
      "source": [
        "import requests\n",
        "from bs4 import BeautifulSoup\n",
        "\n",
        "def fetch_webpage_title(url):\n",
        "\n",
        "    try:\n",
        "        # Send a GET request to the URL\n",
        "        response = requests.get(url)\n",
        "        response.raise_for_status()  # Raise an exception for HTTP errors\n",
        "\n",
        "        # Parse the HTML content using BeautifulSoup\n",
        "        soup = BeautifulSoup(response.text, 'html.parser')\n",
        "\n",
        "        # Extract the title tag\n",
        "        title = soup.title.string.strip() if soup.title else \"No title found\"\n",
        "\n",
        "        return title\n",
        "    except requests.exceptions.RequestException as e:\n",
        "        return f\"Error fetching the webpage: {e}\"\n",
        "\n",
        "# Test the function with the provided URL\n",
        "if __name__ == \"__main__\":\n",
        "    url = \"https://example.com\"\n",
        "    title = fetch_webpage_title(url)\n",
        "    print(\"Webpage Title:\", title)\n"
      ]
    }
  ]
}