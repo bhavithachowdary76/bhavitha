{
  "nbformat": 4,
  "nbformat_minor": 0,
  "metadata": {
    "colab": {
      "provenance": [],
      "authorship_tag": "ABX9TyMnWN5HYC1E+yVZOhEnHQQb",
      "include_colab_link": true
    },
    "kernelspec": {
      "name": "python3",
      "display_name": "Python 3"
    },
    "language_info": {
      "name": "python"
    }
  },
  "cells": [
    {
      "cell_type": "markdown",
      "metadata": {
        "id": "view-in-github",
        "colab_type": "text"
      },
      "source": [
        "<a href=\"https://colab.research.google.com/github/bhavithachowdary76/python/blob/main/day1.ipynb\" target=\"_parent\"><img src=\"https://colab.research.google.com/assets/colab-badge.svg\" alt=\"Open In Colab\"/></a>"
      ]
    },
    {
      "cell_type": "code",
      "execution_count": 1,
      "metadata": {
        "colab": {
          "base_uri": "https://localhost:8080/"
        },
        "id": "f1aO6MYXDcfr",
        "outputId": "b13fa8e5-b382-4f58-eeff-da15b604b8c7"
      },
      "outputs": [
        {
          "output_type": "stream",
          "name": "stdout",
          "text": [
            "Integer Variable:  10  Type:  <class 'int'>\n",
            "Float Variable:  3.14  Type:  <class 'float'>\n",
            "String Variable:  Hello, Jupyter!  Type:  <class 'str'>\n",
            "Boolean Variable:  True  Type:  <class 'bool'>\n"
          ]
        }
      ],
      "source": [
        "# Declare variables of different data types\n",
        "integer_var = 10\n",
        "float_var = 3.14\n",
        "string_var = \"Hello, Jupyter!\"\n",
        "boolean_var = True\n",
        "\n",
        "# Print each variable and its type\n",
        "print(\"Integer Variable: \", integer_var, \" Type: \", type(integer_var))\n",
        "print(\"Float Variable: \", float_var, \" Type: \", type(float_var))\n",
        "print(\"String Variable: \", string_var, \" Type: \", type(string_var))\n",
        "print(\"Boolean Variable: \", boolean_var, \" Type: \", type(boolean_var))\n"
      ]
    },
    {
      "cell_type": "code",
      "source": [],
      "metadata": {
        "id": "wqcUhDSUDlrW"
      },
      "execution_count": null,
      "outputs": []
    }
  ]
}