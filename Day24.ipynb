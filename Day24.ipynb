{
  "nbformat": 4,
  "nbformat_minor": 0,
  "metadata": {
    "colab": {
      "provenance": []
    },
    "kernelspec": {
      "name": "python3",
      "display_name": "Python 3"
    },
    "language_info": {
      "name": "python"
    }
  },
  "cells": [
    {
      "cell_type": "code",
      "source": [
        "import nltk\n",
        "nltk.download('punkt_tab')"
      ],
      "metadata": {
        "colab": {
          "base_uri": "https://localhost:8080/"
        },
        "id": "zPfQB6s88E88",
        "outputId": "92d33f09-1e70-4fb5-a49a-01885e9dc2d4"
      },
      "execution_count": 2,
      "outputs": [
        {
          "output_type": "stream",
          "name": "stderr",
          "text": [
            "[nltk_data] Downloading package punkt_tab to /root/nltk_data...\n",
            "[nltk_data]   Unzipping tokenizers/punkt_tab.zip.\n"
          ]
        },
        {
          "output_type": "execute_result",
          "data": {
            "text/plain": [
              "True"
            ]
          },
          "metadata": {},
          "execution_count": 2
        }
      ]
    },
    {
      "cell_type": "code",
      "execution_count": 4,
      "metadata": {
        "id": "kZUFSoYhZloD",
        "colab": {
          "base_uri": "https://localhost:8080/"
        },
        "outputId": "f0b8b2e8-b635-48ad-8596-35b7695e6373"
      },
      "outputs": [
        {
          "output_type": "stream",
          "name": "stdout",
          "text": [
            "10 Most Common Words:\n",
            "language: 2\n",
            "nlp: 2\n",
            "natural: 1\n",
            "processing: 1\n",
            "fascinating: 1\n",
            "field: 1\n",
            "artificial: 1\n",
            "intelligence: 1\n",
            "enables: 1\n",
            "computers: 1\n"
          ]
        },
        {
          "output_type": "stream",
          "name": "stderr",
          "text": [
            "[nltk_data] Downloading package punkt to /root/nltk_data...\n",
            "[nltk_data]   Package punkt is already up-to-date!\n",
            "[nltk_data] Downloading package stopwords to /root/nltk_data...\n",
            "[nltk_data]   Package stopwords is already up-to-date!\n"
          ]
        }
      ],
      "source": [
        "from collections import Counter\n",
        "import nltk\n",
        "\n",
        "# Download necessary resources\n",
        "nltk.download('punkt')\n",
        "nltk.download('stopwords')\n",
        "\n",
        "from nltk.tokenize import word_tokenize\n",
        "from nltk.corpus import stopwords\n",
        "\n",
        "def get_most_common_words(file_path, n=10):\n",
        "    try:\n",
        "        # Load the text file\n",
        "        with open(file_path, 'r') as file:\n",
        "            text = file.read()\n",
        "\n",
        "        # Tokenize the text\n",
        "        tokens = word_tokenize(text.lower())  # Convert to lowercase for uniformity\n",
        "\n",
        "        # Remove stopwords and non-alphabetic tokens\n",
        "        stop_words = set(stopwords.words('english'))\n",
        "        filtered_tokens = [\n",
        "            word for word in tokens\n",
        "            if isinstance(word, str) and word.isalpha() and word not in stop_words  # Check if word is a string before applying isalpha()\n",
        "        ]\n",
        "\n",
        "        # Count the word frequencies\n",
        "        word_counts = Counter(filtered_tokens)\n",
        "\n",
        "        # Get the n most common words\n",
        "        most_common_words = word_counts.most_common(n)\n",
        "\n",
        "        return most_common_words\n",
        "\n",
        "    except FileNotFoundError:\n",
        "        print(f\"File not found: {file_path}\")\n",
        "        return []\n",
        "\n",
        "# Example usage\n",
        "if __name__ == \"__main__\":\n",
        "    file_path = \"samplee_text.txt\"  # Replace with your file path\n",
        "    common_words = get_most_common_words(file_path)\n",
        "    print(\"10 Most Common Words:\")\n",
        "    for word, count in common_words:\n",
        "        print(f\"{word}: {count}\")"
      ]
    },
    {
      "cell_type": "code",
      "source": [],
      "metadata": {
        "id": "AVnRGK9J8L-w"
      },
      "execution_count": null,
      "outputs": []
    }
  ]
}