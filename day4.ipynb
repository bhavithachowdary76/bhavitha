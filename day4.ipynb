{
  "nbformat": 4,
  "nbformat_minor": 0,
  "metadata": {
    "colab": {
      "provenance": [],
      "authorship_tag": "ABX9TyNRwQWV5fmkNrhFsGvWhSBw",
      "include_colab_link": true
    },
    "kernelspec": {
      "name": "python3",
      "display_name": "Python 3"
    },
    "language_info": {
      "name": "python"
    }
  },
  "cells": [
    {
      "cell_type": "markdown",
      "metadata": {
        "id": "view-in-github",
        "colab_type": "text"
      },
      "source": [
        "<a href=\"https://colab.research.google.com/github/bhavithachowdary76/coding/blob/main/day4.ipynb\" target=\"_parent\"><img src=\"https://colab.research.google.com/assets/colab-badge.svg\" alt=\"Open In Colab\"/></a>"
      ]
    },
    {
      "cell_type": "code",
      "execution_count": 1,
      "metadata": {
        "id": "YdNOu0pSQ-LN",
        "colab": {
          "base_uri": "https://localhost:8080/"
        },
        "outputId": "f9bb80a9-374a-443b-8245-fdb85d8e0698"
      },
      "outputs": [
        {
          "output_type": "stream",
          "name": "stdout",
          "text": [
            "Enter a positive integer: 90\n",
            "The sum of all even numbers between 1 and 90 is: 2070\n"
          ]
        }
      ],
      "source": [
        "def sum_of_even_numbers(n):\n",
        "    if n < 1:\n",
        "        return 0  # If n is less than 1, return 0 as there are no even numbers\n",
        "\n",
        "    # Calculate the sum of even numbers\n",
        "    even_sum = sum(i for i in range(2, n + 1, 2))\n",
        "    return even_sum\n",
        "\n",
        "# Get user input\n",
        "try:\n",
        "    n = int(input(\"Enter a positive integer: \"))\n",
        "    if n < 1:\n",
        "        print(\"Please enter a positive integer greater than or equal to 1.\")\n",
        "    else:\n",
        "        result = sum_of_even_numbers(n)\n",
        "        print(f\"The sum of all even numbers between 1 and {n} is: {result}\")\n",
        "except ValueError:\n",
        "    print(\"Invalid input! Please enter a valid positive integer.\")\n"
      ]
    },
    {
      "cell_type": "code",
      "source": [],
      "metadata": {
        "id": "JoHXkXJONdwV"
      },
      "execution_count": null,
      "outputs": []
    }
  ]
}