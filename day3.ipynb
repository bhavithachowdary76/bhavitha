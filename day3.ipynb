{
  "nbformat": 4,
  "nbformat_minor": 0,
  "metadata": {
    "colab": {
      "provenance": [],
      "authorship_tag": "ABX9TyNGxvJUkEA5FeDgNskOHnAm",
      "include_colab_link": true
    },
    "kernelspec": {
      "name": "python3",
      "display_name": "Python 3"
    },
    "language_info": {
      "name": "python"
    }
  },
  "cells": [
    {
      "cell_type": "markdown",
      "metadata": {
        "id": "view-in-github",
        "colab_type": "text"
      },
      "source": [
        "<a href=\"https://colab.research.google.com/github/bhavithachowdary76/coding/blob/main/day3.ipynb\" target=\"_parent\"><img src=\"https://colab.research.google.com/assets/colab-badge.svg\" alt=\"Open In Colab\"/></a>"
      ]
    },
    {
      "cell_type": "code",
      "execution_count": 1,
      "metadata": {
        "colab": {
          "base_uri": "https://localhost:8080/"
        },
        "id": "HoBJZ4_-Pq5S",
        "outputId": "162f3eb6-dcd2-4e6c-f858-f609f832449d"
      },
      "outputs": [
        {
          "output_type": "stream",
          "name": "stdout",
          "text": [
            "Enter marks for subject 1: 90\n",
            "Enter marks for subject 2: 95\n",
            "Enter marks for subject 3: 90\n",
            "Grade: A\n"
          ]
        }
      ],
      "source": [
        "# Input marks for three subjects\n",
        "subject1 = float(input(\"Enter marks for subject 1: \"))\n",
        "subject2 = float(input(\"Enter marks for subject 2: \"))\n",
        "subject3 = float(input(\"Enter marks for subject 3: \"))\n",
        "\n",
        "# Calculate the average\n",
        "average = (subject1 + subject2 + subject3) / 3\n",
        "\n",
        "# Determine the grade based on the average\n",
        "if average >= 90:\n",
        "    print(\"Grade: A\")\n",
        "elif 80 <= average < 90:\n",
        "    print(\"Grade: B\")\n",
        "elif 70 <= average < 80:\n",
        "    print(\"Grade: C\")\n",
        "else:\n",
        "    print(\"Grade: Fail\")\n"
      ]
    },
    {
      "cell_type": "code",
      "source": [],
      "metadata": {
        "id": "aoXPDCVAQbvX"
      },
      "execution_count": null,
      "outputs": []
    }
  ]
}