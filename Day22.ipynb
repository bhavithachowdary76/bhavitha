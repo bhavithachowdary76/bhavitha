{
  "nbformat": 4,
  "nbformat_minor": 0,
  "metadata": {
    "colab": {
      "provenance": []
    },
    "kernelspec": {
      "name": "python3",
      "display_name": "Python 3"
    },
    "language_info": {
      "name": "python"
    }
  },
  "cells": [
    {
      "cell_type": "code",
      "execution_count": 1,
      "metadata": {
        "id": "2dTNFv5OCrMU",
        "colab": {
          "base_uri": "https://localhost:8080/"
        },
        "outputId": "66a9e72d-9d54-413a-be60-75810871301e"
      },
      "outputs": [
        {
          "output_type": "stream",
          "name": "stdout",
          "text": [
            "Part-of-Speech Tags:\n",
            "NLP: PROPN\n",
            "is: AUX\n",
            "amazing: ADJ\n",
            "and: CCONJ\n",
            "fun: ADJ\n",
            "to: PART\n",
            "learn: VERB\n",
            ".: PUNCT\n"
          ]
        }
      ],
      "source": [
        "import spacy\n",
        "\n",
        "def pos_tagging(sentence):\n",
        "\n",
        "    # Load SpaCy's English language model\n",
        "    nlp = spacy.load(\"en_core_web_sm\")\n",
        "\n",
        "    # Process the sentence with SpaCy\n",
        "    doc = nlp(sentence)\n",
        "\n",
        "    # Extract words and their POS tags\n",
        "    pos_tags = [(token.text, token.pos_) for token in doc]\n",
        "\n",
        "    return pos_tags\n",
        "\n",
        "# Example usage\n",
        "if __name__ == \"__main__\":\n",
        "    sentence = \"NLP is amazing and fun to learn.\"\n",
        "    pos_tags = pos_tagging(sentence)\n",
        "    print(\"Part-of-Speech Tags:\")\n",
        "    for word, pos in pos_tags:\n",
        "        print(f\"{word}: {pos}\")\n"
      ]
    },
    {
      "cell_type": "code",
      "source": [],
      "metadata": {
        "id": "T4J5QoYf5skD"
      },
      "execution_count": null,
      "outputs": []
    }
  ]
}