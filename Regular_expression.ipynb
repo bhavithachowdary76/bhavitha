{
  "nbformat": 4,
  "nbformat_minor": 0,
  "metadata": {
    "colab": {
      "provenance": [],
      "authorship_tag": "ABX9TyNeHQrTrybKwlQcpAWV6wlx",
      "include_colab_link": true
    },
    "kernelspec": {
      "name": "python3",
      "display_name": "Python 3"
    },
    "language_info": {
      "name": "python"
    }
  },
  "cells": [
    {
      "cell_type": "markdown",
      "metadata": {
        "id": "view-in-github",
        "colab_type": "text"
      },
      "source": [
        "<a href=\"https://colab.research.google.com/github/bhavithachowdary76/bhavitha/blob/main/Regular_expression.ipynb\" target=\"_parent\"><img src=\"https://colab.research.google.com/assets/colab-badge.svg\" alt=\"Open In Colab\"/></a>"
      ]
    },
    {
      "cell_type": "code",
      "execution_count": 2,
      "metadata": {
        "colab": {
          "base_uri": "https://localhost:8080/"
        },
        "id": "aL89jV88Ahlm",
        "outputId": "f76c9a9c-f0da-4767-f382-ef1a837817e9"
      },
      "outputs": [
        {
          "output_type": "stream",
          "name": "stdout",
          "text": [
            "i am going to \n",
            "mru college\n",
            "to learn the nlp\n"
          ]
        }
      ],
      "source": [
        "print(\"i am going to \\nmru college\\nto learn the nlp\")"
      ]
    },
    {
      "cell_type": "markdown",
      "source": [
        "##space(\\t)\n"
      ],
      "metadata": {
        "id": "a1nngTPHBch4"
      }
    },
    {
      "cell_type": "code",
      "source": [
        "print(\"i am going to \\nmru college\\tto learn the nlp\")"
      ],
      "metadata": {
        "colab": {
          "base_uri": "https://localhost:8080/"
        },
        "id": "WlSF8hCFA5Uk",
        "outputId": "9be227d7-a76a-45d9-ba28-09ffb1e39064"
      },
      "execution_count": 4,
      "outputs": [
        {
          "output_type": "stream",
          "name": "stdout",
          "text": [
            "i am going to \n",
            "mru college\tto learn the nlp\n"
          ]
        }
      ]
    },
    {
      "cell_type": "markdown",
      "source": [
        "##carriage return(\\r)"
      ],
      "metadata": {
        "id": "GbpBh50ZBjaH"
      }
    },
    {
      "cell_type": "code",
      "source": [
        "print(\"i am going to \\nmru college\\rto learn the nlp\")"
      ],
      "metadata": {
        "colab": {
          "base_uri": "https://localhost:8080/"
        },
        "id": "iVS_eQxsBqGm",
        "outputId": "162343ab-903e-4702-dbce-4d40f9266805"
      },
      "execution_count": 3,
      "outputs": [
        {
          "output_type": "stream",
          "name": "stdout",
          "text": [
            "i am going to \n",
            "mru college\rto learn the nlp\n"
          ]
        }
      ]
    },
    {
      "cell_type": "markdown",
      "source": [
        "##regular expression(re)\n"
      ],
      "metadata": {
        "id": "NEdPsJC0CAsZ"
      }
    },
    {
      "cell_type": "code",
      "source": [
        "import re"
      ],
      "metadata": {
        "id": "HorlBiZ3B060"
      },
      "execution_count": 5,
      "outputs": []
    },
    {
      "cell_type": "markdown",
      "source": [
        "##re.match()"
      ],
      "metadata": {
        "id": "3-rnndMjC3RL"
      }
    },
    {
      "cell_type": "code",
      "source": [
        "import re\n",
        "pattern = r'\\d+'\n",
        "string=\"007 james bond wants to learn the python\"\n",
        "matching=re.match(pattern,string)\n",
        "matching.group()"
      ],
      "metadata": {
        "colab": {
          "base_uri": "https://localhost:8080/",
          "height": 35
        },
        "id": "7Y02uS7wC2E_",
        "outputId": "f95ab0f1-a4be-4f88-8c32-a2d8c5c56518"
      },
      "execution_count": 7,
      "outputs": [
        {
          "output_type": "execute_result",
          "data": {
            "text/plain": [
              "'007'"
            ],
            "application/vnd.google.colaboratory.intrinsic+json": {
              "type": "string"
            }
          },
          "metadata": {},
          "execution_count": 7
        }
      ]
    },
    {
      "cell_type": "code",
      "source": [
        "import re\n",
        "pattern = r'\\d'\n",
        "string=\"james bond wants 007 to learn the python\"\n",
        "matching=re.match(pattern,string)\n",
        "matching.group()"
      ],
      "metadata": {
        "colab": {
          "base_uri": "https://localhost:8080/",
          "height": 176
        },
        "id": "pXHmi_PfDPLZ",
        "outputId": "ad78e682-76dc-492f-95fe-62e84df865f6"
      },
      "execution_count": 8,
      "outputs": [
        {
          "output_type": "error",
          "ename": "AttributeError",
          "evalue": "'NoneType' object has no attribute 'group'",
          "traceback": [
            "\u001b[0;31m---------------------------------------------------------------------------\u001b[0m",
            "\u001b[0;31mAttributeError\u001b[0m                            Traceback (most recent call last)",
            "\u001b[0;32m<ipython-input-8-ff17f78d3c92>\u001b[0m in \u001b[0;36m<cell line: 0>\u001b[0;34m()\u001b[0m\n\u001b[1;32m      3\u001b[0m \u001b[0mstring\u001b[0m\u001b[0;34m=\u001b[0m\u001b[0;34m\"james bond wants 007 to learn the python\"\u001b[0m\u001b[0;34m\u001b[0m\u001b[0;34m\u001b[0m\u001b[0m\n\u001b[1;32m      4\u001b[0m \u001b[0mmatching\u001b[0m\u001b[0;34m=\u001b[0m\u001b[0mre\u001b[0m\u001b[0;34m.\u001b[0m\u001b[0mmatch\u001b[0m\u001b[0;34m(\u001b[0m\u001b[0mpattern\u001b[0m\u001b[0;34m,\u001b[0m\u001b[0mstring\u001b[0m\u001b[0;34m)\u001b[0m\u001b[0;34m\u001b[0m\u001b[0;34m\u001b[0m\u001b[0m\n\u001b[0;32m----> 5\u001b[0;31m \u001b[0mmatching\u001b[0m\u001b[0;34m.\u001b[0m\u001b[0mgroup\u001b[0m\u001b[0;34m(\u001b[0m\u001b[0;34m)\u001b[0m\u001b[0;34m\u001b[0m\u001b[0;34m\u001b[0m\u001b[0m\n\u001b[0m",
            "\u001b[0;31mAttributeError\u001b[0m: 'NoneType' object has no attribute 'group'"
          ]
        }
      ]
    },
    {
      "cell_type": "markdown",
      "source": [
        "##re.search()"
      ],
      "metadata": {
        "id": "Ny7fiFBSEdgA"
      }
    },
    {
      "cell_type": "code",
      "source": [
        "import re\n",
        "pattern = r'\\d+'\n",
        "string=\"james bond wants 007 to 008 learn the python\"\n",
        "matching=re.search(pattern,string)\n",
        "matching.group()"
      ],
      "metadata": {
        "colab": {
          "base_uri": "https://localhost:8080/",
          "height": 35
        },
        "id": "5YUtmOkSENM1",
        "outputId": "cda04ae3-271a-4bba-e06a-d2d1ce1da240"
      },
      "execution_count": 10,
      "outputs": [
        {
          "output_type": "execute_result",
          "data": {
            "text/plain": [
              "'007'"
            ],
            "application/vnd.google.colaboratory.intrinsic+json": {
              "type": "string"
            }
          },
          "metadata": {},
          "execution_count": 10
        }
      ]
    },
    {
      "cell_type": "markdown",
      "source": [
        "##re.findall()"
      ],
      "metadata": {
        "id": "IXUaNL1EFggi"
      }
    },
    {
      "cell_type": "code",
      "source": [
        "import re\n",
        "pattern=r'\\d+'\n",
        "string=\"james bond wants 007 to 008 learn223 the python\"\n",
        "matching=re.findall(pattern,string)\n",
        "matching"
      ],
      "metadata": {
        "colab": {
          "base_uri": "https://localhost:8080/"
        },
        "id": "qcwOEQDCEqlO",
        "outputId": "c0f3e4b9-ed8c-4652-8f86-58ba948df69c"
      },
      "execution_count": 13,
      "outputs": [
        {
          "output_type": "execute_result",
          "data": {
            "text/plain": [
              "['007', '008', '223']"
            ]
          },
          "metadata": {},
          "execution_count": 13
        }
      ]
    },
    {
      "cell_type": "markdown",
      "source": [
        "##re.sub()"
      ],
      "metadata": {
        "id": "IAe2pzVFGxFk"
      }
    },
    {
      "cell_type": "code",
      "source": [
        "import re\n",
        "pattern=r'\\d+'\n",
        "replace=r'#'\n",
        "string=\"james bond wants 007 to 008 learn223 the python\"\n",
        "new_string=re.sub(pattern,replace,string)\n",
        "new_string"
      ],
      "metadata": {
        "colab": {
          "base_uri": "https://localhost:8080/",
          "height": 35
        },
        "id": "UnJfP_qEFsvO",
        "outputId": "52f183aa-80c1-4e64-d6a2-c901d3c422fb"
      },
      "execution_count": 14,
      "outputs": [
        {
          "output_type": "execute_result",
          "data": {
            "text/plain": [
              "'james bond wants # to # learn# the python'"
            ],
            "application/vnd.google.colaboratory.intrinsic+json": {
              "type": "string"
            }
          },
          "metadata": {},
          "execution_count": 14
        }
      ]
    },
    {
      "cell_type": "code",
      "source": [
        "import re\n",
        "pattern=r'\\d'\n",
        "string=\"james bond wants 007 to 008 learn223 the python\"\n",
        "new_string=re.sub(pattern,\"*\",string)\n",
        "new_string"
      ],
      "metadata": {
        "colab": {
          "base_uri": "https://localhost:8080/",
          "height": 35
        },
        "id": "79PbxcfvHIwe",
        "outputId": "f08a54d1-95c2-4ede-c05f-364bcca4b4ae"
      },
      "execution_count": 18,
      "outputs": [
        {
          "output_type": "execute_result",
          "data": {
            "text/plain": [
              "'james bond wants *** to *** learn*** the python'"
            ],
            "application/vnd.google.colaboratory.intrinsic+json": {
              "type": "string"
            }
          },
          "metadata": {},
          "execution_count": 18
        }
      ]
    },
    {
      "cell_type": "markdown",
      "source": [
        "##Problem: NLP Text Cleaning and Extraction\n",
        "\n",
        "You are tasked with cleaning a text dataset to prepare it for NLP tasks. Your goal is to:\n",
        "\n",
        "Extract all email addresses from the text. Remove all numbers (to prevent numeric features from skewing the NLP analysis). Extract all hashtags (for sentiment analysis and trending topics). Normalize whitespace to ensure there's no extra spaces between words. Remove any HTML tags that may be included in the text (from web scraping)."
      ],
      "metadata": {
        "id": "Dh3l2uy7Ircs"
      }
    },
    {
      "cell_type": "code",
      "source": [
        "# Test case\n",
        "text = \"\"\"\n",
        "Hello world! Contact us at info@example.com or support123@company.org. Follow us on social media: #AI #MachineLearning.\n",
        "Visit <a href=\"http://example.com\">our website</a> for more details. This is a test with number 1234.\n",
        "\"\"\""
      ],
      "metadata": {
        "id": "vFaNVlmPHLzK"
      },
      "execution_count": 21,
      "outputs": []
    },
    {
      "cell_type": "code",
      "source": [
        "emails=re.findall(r'[a-zA-Z0-9._%+-]+@[a-zA-Z0-9.-]+\\.[a-zA-Z]{2,}', text)\n",
        "emails"
      ],
      "metadata": {
        "colab": {
          "base_uri": "https://localhost:8080/"
        },
        "id": "3GePXSfNIyeg",
        "outputId": "f5530297-869f-42f6-c41b-abbd517183ed"
      },
      "execution_count": 24,
      "outputs": [
        {
          "output_type": "execute_result",
          "data": {
            "text/plain": [
              "['info@example.com', 'support123@company.org']"
            ]
          },
          "metadata": {},
          "execution_count": 24
        }
      ]
    },
    {
      "cell_type": "code",
      "source": [
        "##hash tags\n",
        "hash_tags=re.findall(r'#[a-zA-Z0-9]+', text)\n",
        "hash_tags"
      ],
      "metadata": {
        "colab": {
          "base_uri": "https://localhost:8080/"
        },
        "id": "WCsya4YOKHVB",
        "outputId": "582a53c6-91ee-49e0-fac0-ad8cbe13da3a"
      },
      "execution_count": 26,
      "outputs": [
        {
          "output_type": "execute_result",
          "data": {
            "text/plain": [
              "['#AI', '#MachineLearning']"
            ]
          },
          "metadata": {},
          "execution_count": 26
        }
      ]
    },
    {
      "cell_type": "code",
      "source": [],
      "metadata": {
        "id": "OrKbwxuAK3WR"
      },
      "execution_count": null,
      "outputs": []
    }
  ]
}