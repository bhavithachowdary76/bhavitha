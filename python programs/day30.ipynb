{
  "nbformat": 4,
  "nbformat_minor": 0,
  "metadata": {
    "colab": {
      "provenance": []
    },
    "kernelspec": {
      "name": "python3",
      "display_name": "Python 3"
    },
    "language_info": {
      "name": "python"
    }
  },
  "cells": [
    {
      "cell_type": "code",
      "execution_count": 1,
      "metadata": {
        "id": "63pQ6Obb1qnX",
        "colab": {
          "base_uri": "https://localhost:8080/"
        },
        "outputId": "d3296acb-7539-483e-b684-38ea6955e97f"
      },
      "outputs": [
        {
          "output_type": "stream",
          "name": "stdout",
          "text": [
            "Sentiment: Positive\n"
          ]
        }
      ],
      "source": [
        "from textblob import TextBlob\n",
        "\n",
        "def analyze_sentiment(text):\n",
        "\n",
        "    # Create a TextBlob object\n",
        "    blob = TextBlob(text)\n",
        "\n",
        "    # Get the polarity score (-1 to 1, where -1 is negative, 1 is positive)\n",
        "    polarity = blob.sentiment.polarity\n",
        "\n",
        "    # Classify sentiment based on the polarity score\n",
        "    if polarity > 0:\n",
        "        sentiment = \"Positive\"\n",
        "    elif polarity < 0:\n",
        "        sentiment = \"Negative\"\n",
        "    else:\n",
        "        sentiment = \"Neutral\"\n",
        "\n",
        "    return sentiment\n",
        "\n",
        "# Example usage\n",
        "if __name__ == \"__main__\":\n",
        "    input_text = \"I love programming, it's so fun and rewarding!\"\n",
        "\n",
        "    sentiment = analyze_sentiment(input_text)\n",
        "    print(f\"Sentiment: {sentiment}\")\n"
      ]
    },
    {
      "cell_type": "code",
      "source": [],
      "metadata": {
        "id": "4HLZ8mlk9thP"
      },
      "execution_count": null,
      "outputs": []
    }
  ]
}