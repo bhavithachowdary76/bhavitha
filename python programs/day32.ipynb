{
  "nbformat": 4,
  "nbformat_minor": 0,
  "metadata": {
    "colab": {
      "provenance": [],
      "gpuType": "T4"
    },
    "kernelspec": {
      "name": "python3",
      "display_name": "Python 3"
    },
    "language_info": {
      "name": "python"
    },
    "accelerator": "GPU"
  },
  "cells": [
    {
      "cell_type": "code",
      "source": [
        "import nltk\n",
        "nltk.download('punkt_tab')"
      ],
      "metadata": {
        "colab": {
          "base_uri": "https://localhost:8080/"
        },
        "id": "dDezz1W_-EJN",
        "outputId": "c0ef93e6-581c-4f03-a9ab-4ff98070b578"
      },
      "execution_count": 3,
      "outputs": [
        {
          "output_type": "stream",
          "name": "stderr",
          "text": [
            "[nltk_data] Downloading package punkt_tab to /root/nltk_data...\n",
            "[nltk_data]   Unzipping tokenizers/punkt_tab.zip.\n"
          ]
        },
        {
          "output_type": "execute_result",
          "data": {
            "text/plain": [
              "True"
            ]
          },
          "metadata": {},
          "execution_count": 3
        }
      ]
    },
    {
      "cell_type": "code",
      "source": [
        "import nltk\n",
        "from collections import Counter\n",
        "from nltk.tokenize import word_tokenize\n",
        "\n",
        "# Download necessary NLTK resources\n",
        "nltk.download('punkt')\n",
        "\n",
        "def calculate_term_frequency(file_path):\n",
        "\n",
        "    try:\n",
        "        # Load the text file\n",
        "        with open(file_path, 'r') as file:\n",
        "            text = file.read()\n",
        "\n",
        "        # Tokenize the text into words\n",
        "        tokens = word_tokenize(text.lower())  # Convert to lowercase to ensure uniformity\n",
        "\n",
        "        # Count the frequency of each token\n",
        "        token_counts = Counter(tokens)\n",
        "\n",
        "        # Remove any non-alphabetic tokens (optional step to remove punctuation)\n",
        "        # Keep token_counts as a Counter object by using a Counter comprehension:\n",
        "        token_counts = Counter({token: count for token, count in token_counts.items() if token.isalpha()})\n",
        "\n",
        "        # Get the top 5 most frequent tokens\n",
        "        most_common_tokens = token_counts.most_common(5)\n",
        "\n",
        "        return most_common_tokens\n",
        "\n",
        "    except FileNotFoundError:\n",
        "        print(f\"File not found: {file_path}\")\n",
        "        return []\n",
        "\n",
        "# Example usage\n",
        "if __name__ == \"__main__\":\n",
        "    file_path = \"text.txt\"  # Replace with your file path\n",
        "    top_tokens = calculate_term_frequency(file_path)\n",
        "\n",
        "    print(\"Top 5 Most Frequent Tokens:\")\n",
        "    for token, count in top_tokens:\n",
        "        print(f\"{token}: {count}\")\n"
      ],
      "metadata": {
        "id": "M0leeSIm5qkv",
        "colab": {
          "base_uri": "https://localhost:8080/"
        },
        "outputId": "48ba67b9-4fd5-4d3d-ce40-857cb46097a1"
      },
      "execution_count": 5,
      "outputs": [
        {
          "output_type": "stream",
          "name": "stdout",
          "text": [
            "Top 5 Most Frequent Tokens:\n",
            "language: 3\n",
            "and: 3\n",
            "nlp: 2\n",
            "human: 2\n",
            "natural: 1\n"
          ]
        },
        {
          "output_type": "stream",
          "name": "stderr",
          "text": [
            "[nltk_data] Downloading package punkt to /root/nltk_data...\n",
            "[nltk_data]   Package punkt is already up-to-date!\n"
          ]
        }
      ]
    },
    {
      "cell_type": "code",
      "source": [],
      "metadata": {
        "id": "NlcrHenZ-fi8"
      },
      "execution_count": null,
      "outputs": []
    }
  ]
}