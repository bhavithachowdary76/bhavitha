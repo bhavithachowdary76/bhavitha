{
  "nbformat": 4,
  "nbformat_minor": 0,
  "metadata": {
    "colab": {
      "provenance": []
    },
    "kernelspec": {
      "name": "python3",
      "display_name": "Python 3"
    },
    "language_info": {
      "name": "python"
    }
  },
  "cells": [
    {
      "cell_type": "code",
      "source": [
        "import nltk\n",
        "nltk.download('punkt_tab')"
      ],
      "metadata": {
        "colab": {
          "base_uri": "https://localhost:8080/"
        },
        "id": "DDhhlVXD6kwH",
        "outputId": "563598bc-2f9b-4490-96a4-6bbfe6dc46cf"
      },
      "execution_count": 2,
      "outputs": [
        {
          "output_type": "stream",
          "name": "stderr",
          "text": [
            "[nltk_data] Downloading package punkt_tab to /root/nltk_data...\n",
            "[nltk_data]   Unzipping tokenizers/punkt_tab.zip.\n"
          ]
        },
        {
          "output_type": "execute_result",
          "data": {
            "text/plain": [
              "True"
            ]
          },
          "metadata": {},
          "execution_count": 2
        }
      ]
    },
    {
      "cell_type": "code",
      "execution_count": 3,
      "metadata": {
        "id": "gToE6gjo9a7r",
        "colab": {
          "base_uri": "https://localhost:8080/"
        },
        "outputId": "26910058-0b00-4a18-cca6-865cf3adbad9"
      },
      "outputs": [
        {
          "output_type": "stream",
          "name": "stdout",
          "text": [
            "Tokenized Sentences:\n",
            "1: \n",
            "    Natural Language Processing (NLP) is a fascinating field of Artificial Intelligence.\n",
            "2: It enables computers to understand, interpret, and generate human language.\n",
            "3: Learning NLP is both challenging and rewarding!\n",
            "\n",
            "Tokenized Words:\n",
            "['Natural', 'Language', 'Processing', '(', 'NLP', ')', 'is', 'a', 'fascinating', 'field', 'of', 'Artificial', 'Intelligence', '.', 'It', 'enables', 'computers', 'to', 'understand', ',', 'interpret', ',', 'and', 'generate', 'human', 'language', '.', 'Learning', 'NLP', 'is', 'both', 'challenging', 'and', 'rewarding', '!']\n"
          ]
        },
        {
          "output_type": "stream",
          "name": "stderr",
          "text": [
            "[nltk_data] Downloading package punkt to /root/nltk_data...\n",
            "[nltk_data]   Package punkt is already up-to-date!\n"
          ]
        }
      ],
      "source": [
        "import nltk\n",
        "\n",
        "# Download required resources\n",
        "nltk.download('punkt')\n",
        "\n",
        "def tokenize_paragraph(paragraph):\n",
        "\n",
        "    # Sentence tokenization\n",
        "    sentences = nltk.sent_tokenize(paragraph)\n",
        "\n",
        "    # Word tokenization\n",
        "    words = nltk.word_tokenize(paragraph)\n",
        "\n",
        "    return sentences, words\n",
        "\n",
        "# Example usage\n",
        "if __name__ == \"__main__\":\n",
        "    sample_paragraph = \"\"\"\n",
        "    Natural Language Processing (NLP) is a fascinating field of Artificial Intelligence.\n",
        "    It enables computers to understand, interpret, and generate human language.\n",
        "    Learning NLP is both challenging and rewarding!\n",
        "    \"\"\"\n",
        "\n",
        "    sentences, words = tokenize_paragraph(sample_paragraph)\n",
        "\n",
        "    print(\"Tokenized Sentences:\")\n",
        "    for i, sentence in enumerate(sentences, 1):\n",
        "        print(f\"{i}: {sentence}\")\n",
        "\n",
        "    print(\"\\nTokenized Words:\")\n",
        "    print(words)\n"
      ]
    },
    {
      "cell_type": "code",
      "source": [],
      "metadata": {
        "id": "jLLUr8sC6Oo2"
      },
      "execution_count": null,
      "outputs": []
    }
  ]
}