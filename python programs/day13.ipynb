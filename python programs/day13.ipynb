{
  "nbformat": 4,
  "nbformat_minor": 0,
  "metadata": {
    "colab": {
      "provenance": []
    },
    "kernelspec": {
      "name": "python3",
      "display_name": "Python 3"
    },
    "language_info": {
      "name": "python"
    }
  },
  "cells": [
    {
      "cell_type": "code",
      "execution_count": 1,
      "metadata": {
        "id": "EKfjW0PmFGiy",
        "colab": {
          "base_uri": "https://localhost:8080/"
        },
        "outputId": "dc555805-23aa-4e34-c140-7bd445b4f062"
      },
      "outputs": [
        {
          "output_type": "stream",
          "name": "stdout",
          "text": [
            "Cleaned Text: hello world welcome to nlp 101\n"
          ]
        }
      ],
      "source": [
        "import re\n",
        "\n",
        "def clean_text(text):\n",
        "\n",
        "    # Remove special characters using a regular expression\n",
        "    cleaned_text = re.sub(r'[^a-zA-Z0-9\\s]', '', text)\n",
        "\n",
        "    # Convert to lowercase\n",
        "    cleaned_text = cleaned_text.lower()\n",
        "\n",
        "    return cleaned_text\n",
        "\n",
        "# Test the function\n",
        "if __name__ == \"__main__\":\n",
        "    input_text = 'Hello, World! Welcome to NLP 101.'\n",
        "    cleaned = clean_text(input_text)\n",
        "    print(\"Cleaned Text:\", cleaned)\n"
      ]
    }
  ]
}