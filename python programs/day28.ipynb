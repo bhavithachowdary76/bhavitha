{
  "nbformat": 4,
  "nbformat_minor": 0,
  "metadata": {
    "colab": {
      "provenance": []
    },
    "kernelspec": {
      "name": "python3",
      "display_name": "Python 3"
    },
    "language_info": {
      "name": "python"
    }
  },
  "cells": [
    {
      "cell_type": "code",
      "execution_count": 1,
      "metadata": {
        "id": "kkwW22TkXjIV",
        "colab": {
          "base_uri": "https://localhost:8080/"
        },
        "outputId": "b85ea0e7-56ae-4656-9d15-ecdd316cef71"
      },
      "outputs": [
        {
          "output_type": "stream",
          "name": "stdout",
          "text": [
            "Named Entities and Their Types:\n",
            "Apple: ORG\n",
            "UK: GPE\n",
            "$1 billion: MONEY\n",
            "Tim Cook: PERSON\n"
          ]
        }
      ],
      "source": [
        "import spacy\n",
        "\n",
        "def named_entity_recognition(text):\n",
        "\n",
        "    # Load SpaCy's pre-trained English model\n",
        "    nlp = spacy.load(\"en_core_web_sm\")\n",
        "\n",
        "    # Process the text using the model\n",
        "    doc = nlp(text)\n",
        "\n",
        "    # Extract named entities and their types\n",
        "    entities = [(entity.text, entity.label_) for entity in doc.ents]\n",
        "\n",
        "    return entities\n",
        "\n",
        "# Example usage\n",
        "if __name__ == \"__main__\":\n",
        "    input_text = \"Apple is looking to buy a startup in the UK for $1 billion. The CEO Tim Cook announced this.\"\n",
        "\n",
        "    entities = named_entity_recognition(input_text)\n",
        "\n",
        "    print(\"Named Entities and Their Types:\")\n",
        "    for entity, label in entities:\n",
        "        print(f\"{entity}: {label}\")\n"
      ]
    },
    {
      "cell_type": "code",
      "source": [],
      "metadata": {
        "id": "e3s-3A-U9NjH"
      },
      "execution_count": null,
      "outputs": []
    }
  ]
}