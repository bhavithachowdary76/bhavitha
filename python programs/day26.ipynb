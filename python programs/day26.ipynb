{
  "nbformat": 4,
  "nbformat_minor": 0,
  "metadata": {
    "colab": {
      "provenance": []
    },
    "kernelspec": {
      "name": "python3",
      "display_name": "Python 3"
    },
    "language_info": {
      "name": "python"
    }
  },
  "cells": [
    {
      "cell_type": "code",
      "execution_count": 1,
      "metadata": {
        "colab": {
          "base_uri": "https://localhost:8080/"
        },
        "id": "Ka4HKtjU8lBh",
        "outputId": "a35cecf2-2b89-4a3a-a0dc-3b3f8a167caf"
      },
      "outputs": [
        {
          "output_type": "stream",
          "name": "stdout",
          "text": [
            "Cosine Similarity between the two texts: 0.07780894359285004\n"
          ]
        }
      ],
      "source": [
        "from sklearn.feature_extraction.text import TfidfVectorizer\n",
        "from sklearn.metrics.pairwise import cosine_similarity\n",
        "\n",
        "def calculate_cosine_similarity(text1, text2):\n",
        "\n",
        "    # Create a TF-IDF Vectorizer\n",
        "    vectorizer = TfidfVectorizer()\n",
        "\n",
        "    # Transform the text into TF-IDF vectors\n",
        "    tfidf_matrix = vectorizer.fit_transform([text1, text2])\n",
        "\n",
        "    # Calculate the cosine similarity\n",
        "    cosine_sim = cosine_similarity(tfidf_matrix[0], tfidf_matrix[1])\n",
        "\n",
        "    return cosine_sim[0][0]\n",
        "\n",
        "# Example usage\n",
        "if __name__ == \"__main__\":\n",
        "    text1 = \"Natural Language Processing is an exciting field.\"\n",
        "    text2 = \"NLP is a fascinating area of Artificial Intelligence.\"\n",
        "\n",
        "    similarity = calculate_cosine_similarity(text1, text2)\n",
        "    print(f\"Cosine Similarity between the two texts: {similarity}\")\n"
      ]
    }
  ]
}